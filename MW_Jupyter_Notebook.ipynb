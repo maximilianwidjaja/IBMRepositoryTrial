{
 "cells": [
  {
   "cell_type": "markdown",
   "metadata": {},
   "source": [
    "<center>\n",
    "    <img src=\"https://s3-api.us-geo.objectstorage.softlayer.net/cf-courses-data/CognitiveClass/Logos/organization_logo/organization_logo.png\" width=\"300\" alt=\"cognitiveclass.ai logo\"  />\n",
    "</center>\n"
   ]
  },
  {
   "cell_type": "markdown",
   "metadata": {
    "tags": []
   },
   "source": [
    "# My Jupyter Notebook on IBM Watson Studio"
   ]
  },
  {
   "cell_type": "markdown",
   "metadata": {},
   "source": [
    "#### **Maximilian Widjaja**\n",
    "Occupation: Student "
   ]
  },
  {
   "cell_type": "markdown",
   "metadata": {},
   "source": [
    "#### *I am interested in Data Science because I have always been fascinated by being able to obtain insights just by analyzing data around us. Another reason I enjoy Data Science is because I have a background in Mathematics and Computer Science.*"
   ]
  },
  {
   "cell_type": "markdown",
   "metadata": {},
   "source": [
    "### The code in Cell 5 declares two variables (A and B). Each variable is assigned an integer. A third variable\n",
    "\n",
    "### (C) is introduced, its value is A divided by B. The last line of code prints the value of C. \n",
    "\n",
    "### C = A/B = 320/17 = 18.8..."
   ]
  },
  {
   "cell_type": "code",
   "execution_count": 2,
   "metadata": {},
   "outputs": [
    {
     "name": "stdout",
     "output_type": "stream",
     "text": [
      "18.823529411764707\n"
     ]
    }
   ],
   "source": [
    "a = 320 \n",
    "b = 17\n",
    "c = a/b\n",
    "print(c)"
   ]
  },
  {
   "cell_type": "markdown",
   "metadata": {},
   "source": [
    "#### Final Assignment\n",
    "***\n",
    "The line above and below shows a horizontal seperator. \n",
    "***\n",
    "1. This is a numbered list. \n",
    "2. This is a numbered list. \n",
    "3. This is a numbered list. \n",
    "***\n",
    "The following <a href=\"https://www.coursera.org/learn/open-source-tools-for-data-science/home/info\">Link</a> will show information on the \"Tools for Data Science\" Coursera course.\n",
    "***\n",
    "Coursera Logo Displayed in the Following Cell \n",
    "***\n",
    "Table\n",
    "| Header | Header | Header | \n",
    "| ------ | ------ | ------ |\n",
    "| Cell | Cell | Cell | \n",
    "| Cell | Cell | Cell | \n",
    "| Cell | Cell | Cell | "
   ]
  },
  {
   "cell_type": "code",
   "execution_count": 3,
   "metadata": {},
   "outputs": [
    {
     "data": {
      "text/html": [
       "<img src=\"https://seekvectorlogo.com/wp-content/uploads/2022/02/coursera-vector-logo-2022.png\" width=\"900\" height=\"500\"/>"
      ],
      "text/plain": [
       "<IPython.core.display.Image object>"
      ]
     },
     "execution_count": 3,
     "metadata": {},
     "output_type": "execute_result"
    }
   ],
   "source": [
    "from IPython.display import Image\n",
    "Image(url=\"https://seekvectorlogo.com/wp-content/uploads/2022/02/coursera-vector-logo-2022.png\", width=900, height=500)"
   ]
  },
  {
   "cell_type": "code",
   "execution_count": null,
   "metadata": {},
   "outputs": [],
   "source": []
  }
 ],
 "metadata": {
  "kernelspec": {
   "display_name": "Python",
   "language": "python",
   "name": "conda-env-python-py"
  },
  "language_info": {
   "codemirror_mode": {
    "name": "ipython",
    "version": 3
   },
   "file_extension": ".py",
   "mimetype": "text/x-python",
   "name": "python",
   "nbconvert_exporter": "python",
   "pygments_lexer": "ipython3",
   "version": "3.7.12"
  }
 },
 "nbformat": 4,
 "nbformat_minor": 4
}
